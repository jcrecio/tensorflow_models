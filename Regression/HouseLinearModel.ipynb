{
  "nbformat": 4,
  "nbformat_minor": 0,
  "metadata": {
    "colab": {
      "name": "HouseLinearModel.ipynb",
      "provenance": [],
      "collapsed_sections": []
    },
    "kernelspec": {
      "name": "python3",
      "display_name": "Python 3"
    }
  },
  "cells": [
    {
      "cell_type": "code",
      "metadata": {
        "id": "oHo0EO7MYDTW",
        "colab": {
          "base_uri": "https://localhost:8080/"
        },
        "outputId": "57442f02-281d-4e94-b100-0ca86ba59c00"
      },
      "source": [
        "%tensorflow_version 2.x # Load tensorflow 2.x into notebook"
      ],
      "execution_count": 1,
      "outputs": [
        {
          "output_type": "stream",
          "text": [
            "`%tensorflow_version` only switches the major version: 1.x or 2.x.\n",
            "You set: `2.x # Load tensorflow 2.x into notebook`. This will be interpreted as: `2.x`.\n",
            "\n",
            "\n",
            "TensorFlow 2.x selected.\n"
          ],
          "name": "stdout"
        }
      ]
    },
    {
      "cell_type": "code",
      "metadata": {
        "id": "9ClTQJS8Q5Rh"
      },
      "source": [
        "!pip install -q sklearn # install scikit-learn"
      ],
      "execution_count": 28,
      "outputs": []
    },
    {
      "cell_type": "markdown",
      "metadata": {
        "id": "QuCDi3YLCRYv"
      },
      "source": [
        "We import all the libraries needed"
      ]
    },
    {
      "cell_type": "code",
      "metadata": {
        "id": "lfBM4fCIBXTh"
      },
      "source": [
        "# from __future__ import absolute_import, division, print_function, unicode_literals\r\n",
        "import numpy as np\r\n",
        "import pandas as pd\r\n",
        "import matplotlib.pyplot as plt\r\n",
        "from IPython.display import clear_output\r\n",
        "from six.moves import urllib\r\n",
        "\r\n",
        "import tensorflow.compat.v2.feature_column as fc\r\n",
        "\r\n",
        "import tensorflow as tf"
      ],
      "execution_count": 4,
      "outputs": []
    },
    {
      "cell_type": "markdown",
      "metadata": {
        "id": "oAqR0kUiCVIe"
      },
      "source": [
        "Let´s load the data from houses"
      ]
    },
    {
      "cell_type": "code",
      "metadata": {
        "id": "057rA5UTCXuX"
      },
      "source": [
        "dftrain = pd.read_csv('https://raw.githubusercontent.com/jcrecio/ml_housepricing/main/TrainData.csv') # train data frame\r\n",
        "dftest = pd.read_csv('https://raw.githubusercontent.com/jcrecio/ml_housepricing/main/TestData.csv') # eval/test data frame\r\n",
        "\r\n",
        "y_train = dftrain.pop('Price') # Get the price from train data\r\n",
        "y_eval = dftest.pop('Price') # Get the price from test data"
      ],
      "execution_count": 6,
      "outputs": []
    },
    {
      "cell_type": "markdown",
      "metadata": {
        "id": "GX-ebp2aDhTa"
      },
      "source": [
        "We can check the data shape and the labels"
      ]
    },
    {
      "cell_type": "code",
      "metadata": {
        "colab": {
          "base_uri": "https://localhost:8080/"
        },
        "id": "H4iIkB9eDjrn",
        "outputId": "3dd55df1-f960-4db4-ca40-bd66802d9362"
      },
      "source": [
        "print(dftrain.head())\r\n"
      ],
      "execution_count": 24,
      "outputs": [
        {
          "output_type": "stream",
          "text": [
            "   Rooms  Size  ExternalView  Floor  ...  Attic  Elevator  Bathrooms  Neighbourhood\n",
            "0      5   172             0      9  ...      2         0          3              1\n",
            "1      5   171             1     10  ...      2         1          3              1\n",
            "2      5   166             1      4  ...      0         1          3              1\n",
            "3      5   171             1      9  ...      0         1          3              1\n",
            "4      5   156             1      3  ...      1         1          2              1\n",
            "\n",
            "[5 rows x 9 columns]\n"
          ],
          "name": "stdout"
        }
      ]
    },
    {
      "cell_type": "code",
      "metadata": {
        "colab": {
          "base_uri": "https://localhost:8080/",
          "height": 297
        },
        "id": "CB17nCIKFh-r",
        "outputId": "3a6d1a09-b0df-4497-df73-bdf5cbed254a"
      },
      "source": [
        "dftrain.describe()"
      ],
      "execution_count": 14,
      "outputs": [
        {
          "output_type": "execute_result",
          "data": {
            "text/html": [
              "<div>\n",
              "<style scoped>\n",
              "    .dataframe tbody tr th:only-of-type {\n",
              "        vertical-align: middle;\n",
              "    }\n",
              "\n",
              "    .dataframe tbody tr th {\n",
              "        vertical-align: top;\n",
              "    }\n",
              "\n",
              "    .dataframe thead th {\n",
              "        text-align: right;\n",
              "    }\n",
              "</style>\n",
              "<table border=\"1\" class=\"dataframe\">\n",
              "  <thead>\n",
              "    <tr style=\"text-align: right;\">\n",
              "      <th></th>\n",
              "      <th>Rooms</th>\n",
              "      <th>Size</th>\n",
              "      <th>ExternalView</th>\n",
              "      <th>Floor</th>\n",
              "      <th>Balconies</th>\n",
              "      <th>Attic</th>\n",
              "      <th>Elevator</th>\n",
              "      <th>Bathrooms</th>\n",
              "      <th>Neighbourhood</th>\n",
              "    </tr>\n",
              "  </thead>\n",
              "  <tbody>\n",
              "    <tr>\n",
              "      <th>count</th>\n",
              "      <td>3000.000000</td>\n",
              "      <td>3000.000000</td>\n",
              "      <td>3000.000000</td>\n",
              "      <td>3000.000000</td>\n",
              "      <td>3000.000000</td>\n",
              "      <td>3000.000000</td>\n",
              "      <td>3000.000000</td>\n",
              "      <td>3000.000000</td>\n",
              "      <td>3000.000000</td>\n",
              "    </tr>\n",
              "    <tr>\n",
              "      <th>mean</th>\n",
              "      <td>3.048000</td>\n",
              "      <td>117.906667</td>\n",
              "      <td>0.498000</td>\n",
              "      <td>5.053000</td>\n",
              "      <td>0.104333</td>\n",
              "      <td>0.541333</td>\n",
              "      <td>0.501000</td>\n",
              "      <td>1.712333</td>\n",
              "      <td>2.990667</td>\n",
              "    </tr>\n",
              "    <tr>\n",
              "      <th>std</th>\n",
              "      <td>1.412218</td>\n",
              "      <td>29.832722</td>\n",
              "      <td>0.500079</td>\n",
              "      <td>3.155552</td>\n",
              "      <td>0.305743</td>\n",
              "      <td>0.675112</td>\n",
              "      <td>0.500082</td>\n",
              "      <td>0.693596</td>\n",
              "      <td>1.418656</td>\n",
              "    </tr>\n",
              "    <tr>\n",
              "      <th>min</th>\n",
              "      <td>1.000000</td>\n",
              "      <td>64.000000</td>\n",
              "      <td>0.000000</td>\n",
              "      <td>0.000000</td>\n",
              "      <td>0.000000</td>\n",
              "      <td>0.000000</td>\n",
              "      <td>0.000000</td>\n",
              "      <td>1.000000</td>\n",
              "      <td>1.000000</td>\n",
              "    </tr>\n",
              "    <tr>\n",
              "      <th>25%</th>\n",
              "      <td>2.000000</td>\n",
              "      <td>92.750000</td>\n",
              "      <td>0.000000</td>\n",
              "      <td>2.000000</td>\n",
              "      <td>0.000000</td>\n",
              "      <td>0.000000</td>\n",
              "      <td>0.000000</td>\n",
              "      <td>1.000000</td>\n",
              "      <td>2.000000</td>\n",
              "    </tr>\n",
              "    <tr>\n",
              "      <th>50%</th>\n",
              "      <td>3.000000</td>\n",
              "      <td>117.000000</td>\n",
              "      <td>0.000000</td>\n",
              "      <td>5.000000</td>\n",
              "      <td>0.000000</td>\n",
              "      <td>0.000000</td>\n",
              "      <td>1.000000</td>\n",
              "      <td>2.000000</td>\n",
              "      <td>3.000000</td>\n",
              "    </tr>\n",
              "    <tr>\n",
              "      <th>75%</th>\n",
              "      <td>4.000000</td>\n",
              "      <td>144.000000</td>\n",
              "      <td>1.000000</td>\n",
              "      <td>8.000000</td>\n",
              "      <td>0.000000</td>\n",
              "      <td>1.000000</td>\n",
              "      <td>1.000000</td>\n",
              "      <td>2.000000</td>\n",
              "      <td>4.000000</td>\n",
              "    </tr>\n",
              "    <tr>\n",
              "      <th>max</th>\n",
              "      <td>5.000000</td>\n",
              "      <td>172.000000</td>\n",
              "      <td>1.000000</td>\n",
              "      <td>10.000000</td>\n",
              "      <td>1.000000</td>\n",
              "      <td>2.000000</td>\n",
              "      <td>1.000000</td>\n",
              "      <td>3.000000</td>\n",
              "      <td>5.000000</td>\n",
              "    </tr>\n",
              "  </tbody>\n",
              "</table>\n",
              "</div>"
            ],
            "text/plain": [
              "             Rooms         Size  ...    Bathrooms  Neighbourhood\n",
              "count  3000.000000  3000.000000  ...  3000.000000    3000.000000\n",
              "mean      3.048000   117.906667  ...     1.712333       2.990667\n",
              "std       1.412218    29.832722  ...     0.693596       1.418656\n",
              "min       1.000000    64.000000  ...     1.000000       1.000000\n",
              "25%       2.000000    92.750000  ...     1.000000       2.000000\n",
              "50%       3.000000   117.000000  ...     2.000000       3.000000\n",
              "75%       4.000000   144.000000  ...     2.000000       4.000000\n",
              "max       5.000000   172.000000  ...     3.000000       5.000000\n",
              "\n",
              "[8 rows x 9 columns]"
            ]
          },
          "metadata": {
            "tags": []
          },
          "execution_count": 14
        }
      ]
    },
    {
      "cell_type": "code",
      "metadata": {
        "colab": {
          "base_uri": "https://localhost:8080/",
          "height": 282
        },
        "id": "60Nyl_9wGExL",
        "outputId": "731310fd-734f-401a-f4c6-476b06b3df7b"
      },
      "source": [
        "dftrain.Size.hist(bins=100) # house sizes distribution"
      ],
      "execution_count": 27,
      "outputs": [
        {
          "output_type": "execute_result",
          "data": {
            "text/plain": [
              "<matplotlib.axes._subplots.AxesSubplot at 0x7f57af54af90>"
            ]
          },
          "metadata": {
            "tags": []
          },
          "execution_count": 27
        },
        {
          "output_type": "display_data",
          "data": {
            "image/png": "[encoded data removed]",
            "text/plain": [
              "<Figure size 432x288 with 1 Axes>"
            ]
          },
          "metadata": {
            "tags": [],
            "needs_background": "light"
          }
        }
      ]
    },
    {
      "cell_type": "code",
      "metadata": {
        "colab": {
          "base_uri": "https://localhost:8080/"
        },
        "id": "T_IKdbvZPeaI",
        "outputId": "3d3bd741-ac63-46a1-aa5e-119b4ad4a0b2"
      },
      "source": [
        "feature_columns = []\r\n",
        "for feature_name in dftrain.keys():\r\n",
        "\tfeature_columns.append(tf.feature_column.numeric_column(feature_name, dtype=tf.float32))\r\n",
        " \r\n",
        "print(feature_columns)"
      ],
      "execution_count": 23,
      "outputs": [
        {
          "output_type": "stream",
          "text": [
            "[NumericColumn(key='Rooms', shape=(1,), default_value=None, dtype=tf.float32, normalizer_fn=None), NumericColumn(key='Size', shape=(1,), default_value=None, dtype=tf.float32, normalizer_fn=None), NumericColumn(key='ExternalView', shape=(1,), default_value=None, dtype=tf.float32, normalizer_fn=None), NumericColumn(key='Floor', shape=(1,), default_value=None, dtype=tf.float32, normalizer_fn=None), NumericColumn(key='Balconies', shape=(1,), default_value=None, dtype=tf.float32, normalizer_fn=None), NumericColumn(key='Attic', shape=(1,), default_value=None, dtype=tf.float32, normalizer_fn=None), NumericColumn(key='Elevator', shape=(1,), default_value=None, dtype=tf.float32, normalizer_fn=None), NumericColumn(key='Bathrooms', shape=(1,), default_value=None, dtype=tf.float32, normalizer_fn=None), NumericColumn(key='Neighbourhood', shape=(1,), default_value=None, dtype=tf.float32, normalizer_fn=None)]\n"
          ],
          "name": "stdout"
        }
      ]
    },
    {
      "cell_type": "markdown",
      "metadata": {
        "id": "UTCWnQhnT2gx"
      },
      "source": [
        "Creates batches with the data and train for N epochs (we can shuffle or not)"
      ]
    },
    {
      "cell_type": "code",
      "metadata": {
        "id": "dGGdCdJkT_jo"
      },
      "source": [
        "def make_input_fn(data_df, label_df, num_epochs=10, shuffle=True, batch_size=32):\r\n",
        "  def input_function():\r\n",
        "    ds = tf.data.Dataset.from_tensor_slices((dict(data_df), label_df))\r\n",
        "    if shuffle:\r\n",
        "      ds = ds.shuffle(1000)\r\n",
        "    ds = ds.batch(batch_size).repeat(num_epochs)\r\n",
        "    return ds\r\n",
        "  return input_function\r\n",
        "\r\n",
        "train_input_fn = make_input_fn(dftrain, y_train)\r\n",
        "eval_input_fn = make_input_fn(dftest, y_eval, num_epochs=1, shuffle=False)"
      ],
      "execution_count": 31,
      "outputs": []
    },
    {
      "cell_type": "markdown",
      "metadata": {
        "id": "8g_6UUV_VWmN"
      },
      "source": [
        "Now we create our model (Linear regression)"
      ]
    },
    {
      "cell_type": "code",
      "metadata": {
        "colab": {
          "base_uri": "https://localhost:8080/"
        },
        "id": "L3QArIokVaAK",
        "outputId": "e042b1b8-858f-4bce-9682-0a82441babf8"
      },
      "source": [
        "linear_est = tf.estimator.LinearRegressor(feature_columns=feature_columns)"
      ],
      "execution_count": 32,
      "outputs": [
        {
          "output_type": "stream",
          "text": [
            "INFO:tensorflow:Using default config.\n",
            "WARNING:tensorflow:Using temporary folder as model directory: /tmp/tmph67czw3t\n",
            "INFO:tensorflow:Using config: {'_model_dir': '/tmp/tmph67czw3t', '_tf_random_seed': None, '_save_summary_steps': 100, '_save_checkpoints_steps': None, '_save_checkpoints_secs': 600, '_session_config': allow_soft_placement: true\n",
            "graph_options {\n",
            "  rewrite_options {\n",
            "    meta_optimizer_iterations: ONE\n",
            "  }\n",
            "}\n",
            ", '_keep_checkpoint_max': 5, '_keep_checkpoint_every_n_hours': 10000, '_log_step_count_steps': 100, '_train_distribute': None, '_device_fn': None, '_protocol': None, '_eval_distribute': None, '_experimental_distribute': None, '_experimental_max_worker_delay_secs': None, '_session_creation_timeout_secs': 7200, '_checkpoint_save_graph_def': True, '_service': None, '_cluster_spec': ClusterSpec({}), '_task_type': 'worker', '_task_id': 0, '_global_id_in_cluster': 0, '_master': '', '_evaluation_master': '', '_is_chief': True, '_num_ps_replicas': 0, '_num_worker_replicas': 1}\n"
          ],
          "name": "stdout"
        }
      ]
    },
    {
      "cell_type": "markdown",
      "metadata": {
        "id": "VlssZm3AVt7p"
      },
      "source": [
        "We train our model with the train data"
      ]
    },
    {
      "cell_type": "code",
      "metadata": {
        "colab": {
          "base_uri": "https://localhost:8080/"
        },
        "id": "WYQ4ph6gWFJF",
        "outputId": "89df231b-a38c-450b-d31c-01725052a601"
      },
      "source": [
        "linear_est.train(train_input_fn)"
      ],
      "execution_count": 40,
      "outputs": [
        {
          "output_type": "stream",
          "text": [
            "INFO:tensorflow:Calling model_fn.\n"
          ],
          "name": "stdout"
        },
        {
          "output_type": "stream",
          "text": [
            "/usr/local/lib/python3.7/dist-packages/tensorflow/python/keras/engine/base_layer_v1.py:1727: UserWarning: `layer.add_variable` is deprecated and will be removed in a future version. Please use `layer.add_weight` method instead.\n",
            "  warnings.warn('`layer.add_variable` is deprecated and '\n"
          ],
          "name": "stderr"
        },
        {
          "output_type": "stream",
          "text": [
            "INFO:tensorflow:Done calling model_fn.\n",
            "INFO:tensorflow:Create CheckpointSaverHook.\n",
            "INFO:tensorflow:Graph was finalized.\n",
            "INFO:tensorflow:Restoring parameters from /tmp/tmph67czw3t/model.ckpt-940\n",
            "WARNING:tensorflow:From /usr/local/lib/python3.7/dist-packages/tensorflow/python/training/saver.py:1076: get_checkpoint_mtimes (from tensorflow.python.training.checkpoint_management) is deprecated and will be removed in a future version.\n",
            "Instructions for updating:\n",
            "Use standard file utilities to get mtimes.\n",
            "INFO:tensorflow:Running local_init_op.\n",
            "INFO:tensorflow:Done running local_init_op.\n",
            "INFO:tensorflow:Calling checkpoint listeners before saving checkpoint 940...\n",
            "INFO:tensorflow:Saving checkpoints for 940 into /tmp/tmph67czw3t/model.ckpt.\n",
            "INFO:tensorflow:Calling checkpoint listeners after saving checkpoint 940...\n",
            "INFO:tensorflow:loss = 30760575000.0, step = 940\n",
            "INFO:tensorflow:global_step/sec: 531.456\n",
            "INFO:tensorflow:loss = 28339302000.0, step = 1040 (0.194 sec)\n",
            "INFO:tensorflow:global_step/sec: 820.168\n",
            "INFO:tensorflow:loss = 26203660000.0, step = 1140 (0.118 sec)\n",
            "INFO:tensorflow:global_step/sec: 881.014\n",
            "INFO:tensorflow:loss = 24061182000.0, step = 1240 (0.116 sec)\n",
            "INFO:tensorflow:global_step/sec: 846.501\n",
            "INFO:tensorflow:loss = 23503847000.0, step = 1340 (0.116 sec)\n",
            "INFO:tensorflow:global_step/sec: 883.765\n",
            "INFO:tensorflow:loss = 22968037000.0, step = 1440 (0.116 sec)\n",
            "WARNING:tensorflow:It seems that global step (tf.train.get_global_step) has not been increased. Current value (could be stable): 1454 vs previous value: 1454. You could increase the global step by passing tf.train.get_global_step() to Optimizer.apply_gradients or Optimizer.minimize.\n",
            "INFO:tensorflow:global_step/sec: 804.809\n",
            "INFO:tensorflow:loss = 18888411000.0, step = 1540 (0.124 sec)\n",
            "INFO:tensorflow:global_step/sec: 866.481\n",
            "INFO:tensorflow:loss = 19148325000.0, step = 1640 (0.112 sec)\n",
            "INFO:tensorflow:global_step/sec: 878.611\n",
            "INFO:tensorflow:loss = 13263838000.0, step = 1740 (0.117 sec)\n",
            "INFO:tensorflow:global_step/sec: 933.489\n",
            "INFO:tensorflow:loss = 15110660000.0, step = 1840 (0.105 sec)\n",
            "INFO:tensorflow:Calling checkpoint listeners before saving checkpoint 1880...\n",
            "INFO:tensorflow:Saving checkpoints for 1880 into /tmp/tmph67czw3t/model.ckpt.\n",
            "INFO:tensorflow:Calling checkpoint listeners after saving checkpoint 1880...\n",
            "INFO:tensorflow:Loss for final step: 9741950000.0.\n"
          ],
          "name": "stdout"
        },
        {
          "output_type": "execute_result",
          "data": {
            "text/plain": [
              "<tensorflow_estimator.python.estimator.canned.linear.LinearRegressorV2 at 0x7f57adec7610>"
            ]
          },
          "metadata": {
            "tags": []
          },
          "execution_count": 40
        }
      ]
    },
    {
      "cell_type": "markdown",
      "metadata": {
        "id": "nKjX27_1WgyL"
      },
      "source": [
        "And we evaluate the model with our evaluation/test data"
      ]
    },
    {
      "cell_type": "code",
      "metadata": {
        "colab": {
          "base_uri": "https://localhost:8080/"
        },
        "id": "nj788QOiWiV0",
        "outputId": "e9fb4e26-c79f-4e3a-ed97-2a72d5bef966"
      },
      "source": [
        "result = linear_est.evaluate(eval_input_fn)"
      ],
      "execution_count": 41,
      "outputs": [
        {
          "output_type": "stream",
          "text": [
            "INFO:tensorflow:Calling model_fn.\n"
          ],
          "name": "stdout"
        },
        {
          "output_type": "stream",
          "text": [
            "/usr/local/lib/python3.7/dist-packages/tensorflow/python/keras/engine/base_layer_v1.py:1727: UserWarning: `layer.add_variable` is deprecated and will be removed in a future version. Please use `layer.add_weight` method instead.\n",
            "  warnings.warn('`layer.add_variable` is deprecated and '\n"
          ],
          "name": "stderr"
        },
        {
          "output_type": "stream",
          "text": [
            "INFO:tensorflow:Done calling model_fn.\n",
            "INFO:tensorflow:Starting evaluation at 2021-03-02T00:41:03Z\n",
            "INFO:tensorflow:Graph was finalized.\n",
            "INFO:tensorflow:Restoring parameters from /tmp/tmph67czw3t/model.ckpt-1880\n",
            "INFO:tensorflow:Running local_init_op.\n",
            "INFO:tensorflow:Done running local_init_op.\n",
            "INFO:tensorflow:Inference Time : 0.37984s\n",
            "INFO:tensorflow:Finished evaluation at 2021-03-02-00:41:04\n",
            "INFO:tensorflow:Saving dict for global step 1880: average_loss = 17063446000.0, global_step = 1880, label/mean = 126112.17, loss = 17065261000.0, prediction/mean = 2058.7297\n",
            "INFO:tensorflow:Saving 'checkpoint_path' summary for global step 1880: /tmp/tmph67czw3t/model.ckpt-1880\n"
          ],
          "name": "stdout"
        }
      ]
    },
    {
      "cell_type": "code",
      "metadata": {
        "colab": {
          "base_uri": "https://localhost:8080/"
        },
        "id": "RxNoCR8CW94T",
        "outputId": "0c195d80-aee3-4afe-c155-6d880fb55863"
      },
      "source": [
        "predictions = list(linear_est.predict(eval_input_fn))\r\n",
        "print(y_eval[0])\r\n",
        "print(predictions[0])"
      ],
      "execution_count": 44,
      "outputs": [
        {
          "output_type": "stream",
          "text": [
            "INFO:tensorflow:Calling model_fn.\n"
          ],
          "name": "stdout"
        },
        {
          "output_type": "stream",
          "text": [
            "/usr/local/lib/python3.7/dist-packages/tensorflow/python/keras/engine/base_layer_v1.py:1727: UserWarning: `layer.add_variable` is deprecated and will be removed in a future version. Please use `layer.add_weight` method instead.\n",
            "  warnings.warn('`layer.add_variable` is deprecated and '\n"
          ],
          "name": "stderr"
        },
        {
          "output_type": "stream",
          "text": [
            "INFO:tensorflow:Done calling model_fn.\n",
            "INFO:tensorflow:Graph was finalized.\n",
            "INFO:tensorflow:Restoring parameters from /tmp/tmph67czw3t/model.ckpt-1880\n",
            "INFO:tensorflow:Running local_init_op.\n",
            "INFO:tensorflow:Done running local_init_op.\n",
            "87401\n",
            "{'predictions': array([1650.1045], dtype=float32)}\n"
          ],
          "name": "stdout"
        }
      ]
    }
  ]
}